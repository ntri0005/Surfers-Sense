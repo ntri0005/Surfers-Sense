{
 "cells": [
  {
   "cell_type": "markdown",
   "metadata": {},
   "source": [
    "### Author: Akshay Ijantkar\n",
    "### Team: Aqua Wizards\n",
    "### Project: Surfers Bible"
   ]
  },
  {
   "cell_type": "markdown",
   "metadata": {},
   "source": [
    "# Import Libraries:"
   ]
  },
  {
   "cell_type": "code",
   "execution_count": 16,
   "metadata": {},
   "outputs": [],
   "source": [
    "import pandas as pd\n",
    "# import numpy as np\n",
    "# import random\n",
    "# import matplotlib as plt\n",
    "# from matplotlib import pyplot\n",
    "# import seaborn as sns; sns.set()\n",
    "# from scipy.stats import norm \n",
    "# import matplotlib.pyplot as plt\n",
    "# # For Linear regression\n",
    "# from sklearn.linear_model import LinearRegression\n",
    "# # For split given dataset into train and test set.\n",
    "# from sklearn.model_selection import train_test_split\n",
    "# # To verify models using this metrics \n",
    "# from sklearn.metrics import mean_squared_error, r2_score\n",
    "\n",
    "# import statsmodels.formula.api as smf\n",
    "# from sklearn.linear_model import LinearRegression\n",
    "# from sklearn import metrics\n",
    "# # v\n",
    "# from matplotlib import rcParams\n",
    "# rcParams['figure.figsize'] = 50,50\n",
    "# import pandas_profiling\n",
    "# pd.set_option('display.max_rows', 1500)\n",
    "# pd.set_option('display.max_columns', 500)\n",
    "# pd.set_option('display.width', 1000)\n",
    "# from pandas import ExcelWriter\n",
    "# from pandas import ExcelFile\n",
    "\n",
    "# import googlemaps\n",
    "# from datetime import datetime\n",
    "\n",
    "# from pygeocoder import Geocoder\n",
    "# %matplotlib inline"
   ]
  },
  {
   "cell_type": "markdown",
   "metadata": {},
   "source": [
    "# Weight Volume DF:"
   ]
  },
  {
   "cell_type": "code",
   "execution_count": 2,
   "metadata": {},
   "outputs": [
    {
     "name": "stdout",
     "output_type": "stream",
     "text": [
      "Wt_Vol_df.shape =  (16, 6)\n"
     ]
    },
    {
     "data": {
      "text/html": [
       "<div>\n",
       "<style scoped>\n",
       "    .dataframe tbody tr th:only-of-type {\n",
       "        vertical-align: middle;\n",
       "    }\n",
       "\n",
       "    .dataframe tbody tr th {\n",
       "        vertical-align: top;\n",
       "    }\n",
       "\n",
       "    .dataframe thead th {\n",
       "        text-align: right;\n",
       "    }\n",
       "</style>\n",
       "<table border=\"1\" class=\"dataframe\">\n",
       "  <thead>\n",
       "    <tr style=\"text-align: right;\">\n",
       "      <th></th>\n",
       "      <th>Weight (Kg)</th>\n",
       "      <th>Advance +</th>\n",
       "      <th>Advance</th>\n",
       "      <th>Inter. / Adv</th>\n",
       "      <th>Intermediate</th>\n",
       "      <th>Beginner</th>\n",
       "    </tr>\n",
       "  </thead>\n",
       "  <tbody>\n",
       "    <tr>\n",
       "      <th>0</th>\n",
       "      <td>35 &amp; Under</td>\n",
       "      <td>15.05</td>\n",
       "      <td>15.75</td>\n",
       "      <td>16.80</td>\n",
       "      <td>21.00</td>\n",
       "      <td>25.90</td>\n",
       "    </tr>\n",
       "    <tr>\n",
       "      <th>1</th>\n",
       "      <td>40</td>\n",
       "      <td>16.40</td>\n",
       "      <td>17.20</td>\n",
       "      <td>18.80</td>\n",
       "      <td>23.60</td>\n",
       "      <td>29.20</td>\n",
       "    </tr>\n",
       "    <tr>\n",
       "      <th>2</th>\n",
       "      <td>45</td>\n",
       "      <td>18.00</td>\n",
       "      <td>18.90</td>\n",
       "      <td>20.70</td>\n",
       "      <td>26.10</td>\n",
       "      <td>32.40</td>\n",
       "    </tr>\n",
       "    <tr>\n",
       "      <th>3</th>\n",
       "      <td>50</td>\n",
       "      <td>19.00</td>\n",
       "      <td>20.50</td>\n",
       "      <td>22.50</td>\n",
       "      <td>28.50</td>\n",
       "      <td>35.50</td>\n",
       "    </tr>\n",
       "    <tr>\n",
       "      <th>4</th>\n",
       "      <td>55</td>\n",
       "      <td>19.80</td>\n",
       "      <td>21.45</td>\n",
       "      <td>23.65</td>\n",
       "      <td>30.25</td>\n",
       "      <td>37.95</td>\n",
       "    </tr>\n",
       "    <tr>\n",
       "      <th>5</th>\n",
       "      <td>60</td>\n",
       "      <td>21.00</td>\n",
       "      <td>22.80</td>\n",
       "      <td>25.20</td>\n",
       "      <td>32.40</td>\n",
       "      <td>40.80</td>\n",
       "    </tr>\n",
       "    <tr>\n",
       "      <th>6</th>\n",
       "      <td>65</td>\n",
       "      <td>22.75</td>\n",
       "      <td>24.70</td>\n",
       "      <td>27.30</td>\n",
       "      <td>35.10</td>\n",
       "      <td>44.20</td>\n",
       "    </tr>\n",
       "    <tr>\n",
       "      <th>7</th>\n",
       "      <td>70</td>\n",
       "      <td>24.50</td>\n",
       "      <td>26.60</td>\n",
       "      <td>29.40</td>\n",
       "      <td>37.80</td>\n",
       "      <td>47.60</td>\n",
       "    </tr>\n",
       "    <tr>\n",
       "      <th>8</th>\n",
       "      <td>75</td>\n",
       "      <td>26.25</td>\n",
       "      <td>28.50</td>\n",
       "      <td>31.50</td>\n",
       "      <td>40.50</td>\n",
       "      <td>51.00</td>\n",
       "    </tr>\n",
       "    <tr>\n",
       "      <th>9</th>\n",
       "      <td>80</td>\n",
       "      <td>28.00</td>\n",
       "      <td>30.40</td>\n",
       "      <td>33.60</td>\n",
       "      <td>43.20</td>\n",
       "      <td>54.40</td>\n",
       "    </tr>\n",
       "    <tr>\n",
       "      <th>10</th>\n",
       "      <td>85</td>\n",
       "      <td>29.75</td>\n",
       "      <td>32.30</td>\n",
       "      <td>35.70</td>\n",
       "      <td>45.90</td>\n",
       "      <td>57.80</td>\n",
       "    </tr>\n",
       "    <tr>\n",
       "      <th>11</th>\n",
       "      <td>90</td>\n",
       "      <td>31.50</td>\n",
       "      <td>34.20</td>\n",
       "      <td>37.80</td>\n",
       "      <td>48.60</td>\n",
       "      <td>61.20</td>\n",
       "    </tr>\n",
       "    <tr>\n",
       "      <th>12</th>\n",
       "      <td>95</td>\n",
       "      <td>33.25</td>\n",
       "      <td>36.10</td>\n",
       "      <td>39.90</td>\n",
       "      <td>51.30</td>\n",
       "      <td>64.60</td>\n",
       "    </tr>\n",
       "    <tr>\n",
       "      <th>13</th>\n",
       "      <td>100</td>\n",
       "      <td>35.00</td>\n",
       "      <td>38.00</td>\n",
       "      <td>42.00</td>\n",
       "      <td>54.00</td>\n",
       "      <td>68.00</td>\n",
       "    </tr>\n",
       "    <tr>\n",
       "      <th>14</th>\n",
       "      <td>105</td>\n",
       "      <td>36.75</td>\n",
       "      <td>39.90</td>\n",
       "      <td>44.10</td>\n",
       "      <td>56.70</td>\n",
       "      <td>71.40</td>\n",
       "    </tr>\n",
       "    <tr>\n",
       "      <th>15</th>\n",
       "      <td>110</td>\n",
       "      <td>38.50</td>\n",
       "      <td>41.80</td>\n",
       "      <td>46.20</td>\n",
       "      <td>59.40</td>\n",
       "      <td>74.80</td>\n",
       "    </tr>\n",
       "  </tbody>\n",
       "</table>\n",
       "</div>"
      ],
      "text/plain": [
       "   Weight (Kg)  Advance +  Advance  Inter. / Adv  Intermediate  Beginner\n",
       "0   35 & Under      15.05    15.75         16.80         21.00     25.90\n",
       "1           40      16.40    17.20         18.80         23.60     29.20\n",
       "2           45      18.00    18.90         20.70         26.10     32.40\n",
       "3           50      19.00    20.50         22.50         28.50     35.50\n",
       "4           55      19.80    21.45         23.65         30.25     37.95\n",
       "5           60      21.00    22.80         25.20         32.40     40.80\n",
       "6           65      22.75    24.70         27.30         35.10     44.20\n",
       "7           70      24.50    26.60         29.40         37.80     47.60\n",
       "8           75      26.25    28.50         31.50         40.50     51.00\n",
       "9           80      28.00    30.40         33.60         43.20     54.40\n",
       "10          85      29.75    32.30         35.70         45.90     57.80\n",
       "11          90      31.50    34.20         37.80         48.60     61.20\n",
       "12          95      33.25    36.10         39.90         51.30     64.60\n",
       "13         100      35.00    38.00         42.00         54.00     68.00\n",
       "14         105      36.75    39.90         44.10         56.70     71.40\n",
       "15         110      38.50    41.80         46.20         59.40     74.80"
      ]
     },

     "execution_count": 2,
     "metadata": {},
     "output_type": "execute_result"
    }
   ],
   "source": [
    "dataset_path = r\"\"\n",
    "# surf_board_df = pd.read_csv(dataset_path + \"All_Las_Bambas_Assay_Method_SG_Data.xlsx\")\n",
    "Wt_Vol_df = pd.read_excel(dataset_path + \"Surfboard_Reco_Datasets.xlsx\", \n",
    "                              sheet_name = \"Wt_Vol\")\n",
    "print(\"Wt_Vol_df.shape = \", Wt_Vol_df.shape)\n",
    "Wt_Vol_df[\"Weight (Kg)\"] = Wt_Vol_df[\"Weight (Kg)\"].astype(str).apply(lambda x: x.strip())\n",
    "Wt_Vol_df"
   ]
  },
  {
   "cell_type": "code",
   "execution_count": 3,
   "metadata": {},
   "outputs": [
    {
     "data": {
      "text/plain": [
       "Weight (Kg)      object\n",
       "Advance +       float64\n",
       "Advance         float64\n",
       "Inter. / Adv    float64\n",
       "Intermediate    float64\n",
       "Beginner        float64\n",
       "dtype: object"
      ]
     },

     "execution_count": 3,
     "metadata": {},
     "output_type": "execute_result"
    }
   ],
   "source": [
    "Wt_Vol_df.dtypes"
   ]
  },
  {
   "cell_type": "markdown",
   "metadata": {},
   "source": [
    "# Age and Factor DF:"
   ]
  },
  {
   "cell_type": "code",
   "execution_count": 4,
   "metadata": {},
   "outputs": [
    {
     "name": "stdout",
     "output_type": "stream",
     "text": [
      "Age_Factor_df.shape =  (4, 2)\n"
     ]
    },
    {
     "data": {
      "text/html": [
       "<div>\n",
       "<style scoped>\n",
       "    .dataframe tbody tr th:only-of-type {\n",
       "        vertical-align: middle;\n",
       "    }\n",
       "\n",
       "    .dataframe tbody tr th {\n",
       "        vertical-align: top;\n",
       "    }\n",
       "\n",
       "    .dataframe thead th {\n",
       "        text-align: right;\n",
       "    }\n",
       "</style>\n",
       "<table border=\"1\" class=\"dataframe\">\n",
       "  <thead>\n",
       "    <tr style=\"text-align: right;\">\n",
       "      <th></th>\n",
       "      <th>Age</th>\n",
       "      <th>Factor</th>\n",
       "    </tr>\n",
       "  </thead>\n",
       "  <tbody>\n",
       "    <tr>\n",
       "      <th>0</th>\n",
       "      <td>0 - 30</td>\n",
       "      <td>0.00</td>\n",
       "    </tr>\n",
       "    <tr>\n",
       "      <th>1</th>\n",
       "      <td>31 - 50</td>\n",
       "      <td>1.08</td>\n",
       "    </tr>\n",
       "    <tr>\n",
       "      <th>2</th>\n",
       "      <td>51 - 60</td>\n",
       "      <td>1.20</td>\n",
       "    </tr>\n",
       "    <tr>\n",
       "      <th>3</th>\n",
       "      <td>61+</td>\n",
       "      <td>1.30</td>\n",
       "    </tr>\n",
       "  </tbody>\n",
       "</table>\n",
       "</div>"
      ],
      "text/plain": [
       "       Age  Factor\n",
       "0   0 - 30    0.00\n",
       "1  31 - 50    1.08\n",
       "2  51 - 60    1.20\n",
       "3      61+    1.30"
      ]
     },

     "execution_count": 4,
     "metadata": {},
     "output_type": "execute_result"
    }
   ],
   "source": [
    "dataset_path = r\"\"\n",
    "# surf_board_df = pd.read_csv(dataset_path + \"All_Las_Bambas_Assay_Method_SG_Data.xlsx\")\n",
    "Age_Factor_df = pd.read_excel(dataset_path + \"Surfboard_Reco_Datasets.xlsx\", \n",
    "                              sheet_name = \"Age_Factor\")\n",
    "print(\"Age_Factor_df.shape = \", Age_Factor_df.shape)\n",
    "Age_Factor_df[\"Age\"] = Age_Factor_df[\"Age\"].astype(str).apply(lambda x: x.strip())\n",
    "\n",
    "Age_Factor_df.head(5)"
   ]
  },
  {
   "cell_type": "code",
   "execution_count": 5,
   "metadata": {},
   "outputs": [
    {
     "data": {
      "text/plain": [
       "Age        object\n",
       "Factor    float64\n",
       "dtype: object"
      ]
     },

     "execution_count": 5,
     "metadata": {},
     "output_type": "execute_result"
    }
   ],
   "source": [
    "Age_Factor_df.dtypes"
   ]
  },
  {
   "cell_type": "markdown",
   "metadata": {},
   "source": [
    "# Fitness Factor DF:"
   ]
  },
  {
   "cell_type": "code",
   "execution_count": 6,
   "metadata": {},
   "outputs": [
    {
     "name": "stdout",
     "output_type": "stream",
     "text": [
      "Fitness_Factor_df.shape =  (4, 2)\n"
     ]
    },
    {
     "data": {
      "text/html": [
       "<div>\n",
       "<style scoped>\n",
       "    .dataframe tbody tr th:only-of-type {\n",
       "        vertical-align: middle;\n",
       "    }\n",
       "\n",
       "    .dataframe tbody tr th {\n",
       "        vertical-align: top;\n",
       "    }\n",
       "\n",
       "    .dataframe thead th {\n",
       "        text-align: right;\n",
       "    }\n",
       "</style>\n",
       "<table border=\"1\" class=\"dataframe\">\n",
       "  <thead>\n",
       "    <tr style=\"text-align: right;\">\n",
       "      <th></th>\n",
       "      <th>Fitness</th>\n",
       "      <th>Factor</th>\n",
       "    </tr>\n",
       "  </thead>\n",
       "  <tbody>\n",
       "    <tr>\n",
       "      <th>0</th>\n",
       "      <td>Excellent - Surfing 4 times per week or other ...</td>\n",
       "      <td>0.00</td>\n",
       "    </tr>\n",
       "    <tr>\n",
       "      <th>1</th>\n",
       "      <td>Good - Surfing 3 times per week or other train...</td>\n",
       "      <td>1.05</td>\n",
       "    </tr>\n",
       "    <tr>\n",
       "      <th>2</th>\n",
       "      <td>Average - Surfing 2 times per week or other tr...</td>\n",
       "      <td>1.10</td>\n",
       "    </tr>\n",
       "    <tr>\n",
       "      <th>3</th>\n",
       "      <td>Poor - Surfing 1 times per week or other train...</td>\n",
       "      <td>1.20</td>\n",
       "    </tr>\n",
       "  </tbody>\n",
       "</table>\n",
       "</div>"
      ],
      "text/plain": [
       "                                             Fitness  Factor\n",
       "0  Excellent - Surfing 4 times per week or other ...    0.00\n",
       "1  Good - Surfing 3 times per week or other train...    1.05\n",
       "2  Average - Surfing 2 times per week or other tr...    1.10\n",
       "3  Poor - Surfing 1 times per week or other train...    1.20"
      ]
     },

     "execution_count": 6,
     "metadata": {},
     "output_type": "execute_result"
    }
   ],
   "source": [
    "dataset_path = r\"\"\n",
    "# surf_board_df = pd.read_csv(dataset_path + \"All_Las_Bambas_Assay_Method_SG_Data.xlsx\")\n",
    "Fitness_Factor_df = pd.read_excel(dataset_path + \"Surfboard_Reco_Datasets.xlsx\", \n",
    "                              sheet_name = \"Fitness_Factor\")\n",
    "print(\"Fitness_Factor_df.shape = \", Fitness_Factor_df.shape)\n",
    "\n",
    "Fitness_Factor_df.head(5)"
   ]
  },
  {
   "cell_type": "code",
   "execution_count": 7,
   "metadata": {},
   "outputs": [
    {
     "data": {
      "text/html": [
       "<div>\n",
       "<style scoped>\n",
       "    .dataframe tbody tr th:only-of-type {\n",
       "        vertical-align: middle;\n",
       "    }\n",
       "\n",
       "    .dataframe tbody tr th {\n",
       "        vertical-align: top;\n",
       "    }\n",
       "\n",
       "    .dataframe thead th {\n",
       "        text-align: right;\n",
       "    }\n",
       "</style>\n",
       "<table border=\"1\" class=\"dataframe\">\n",
       "  <thead>\n",
       "    <tr style=\"text-align: right;\">\n",
       "      <th></th>\n",
       "      <th>Fitness</th>\n",
       "      <th>Factor</th>\n",
       "      <th>fitness_level</th>\n",
       "      <th>fitness_des</th>\n",
       "    </tr>\n",
       "  </thead>\n",
       "  <tbody>\n",
       "    <tr>\n",
       "      <th>0</th>\n",
       "      <td>Excellent - Surfing 4 times per week or other ...</td>\n",
       "      <td>0.00</td>\n",
       "      <td>Excellent</td>\n",
       "      <td>Surfing 4 times per week or other training 4 t...</td>\n",
       "    </tr>\n",
       "    <tr>\n",
       "      <th>1</th>\n",
       "      <td>Good - Surfing 3 times per week or other train...</td>\n",
       "      <td>1.05</td>\n",
       "      <td>Good</td>\n",
       "      <td>Surfing 3 times per week or other training 3 t...</td>\n",
       "    </tr>\n",
       "    <tr>\n",
       "      <th>2</th>\n",
       "      <td>Average - Surfing 2 times per week or other tr...</td>\n",
       "      <td>1.10</td>\n",
       "      <td>Average</td>\n",
       "      <td>Surfing 2 times per week or other training 2 t...</td>\n",
       "    </tr>\n",
       "    <tr>\n",
       "      <th>3</th>\n",
       "      <td>Poor - Surfing 1 times per week or other train...</td>\n",
       "      <td>1.20</td>\n",
       "      <td>Poor</td>\n",
       "      <td>Surfing 1 times per week or other training 1 t...</td>\n",
       "    </tr>\n",
       "  </tbody>\n",
       "</table>\n",
       "</div>"
      ],
      "text/plain": [
       "                                             Fitness  Factor fitness_level  \\\n",
       "0  Excellent - Surfing 4 times per week or other ...    0.00     Excellent   \n",
       "1  Good - Surfing 3 times per week or other train...    1.05          Good   \n",
       "2  Average - Surfing 2 times per week or other tr...    1.10       Average   \n",
       "3  Poor - Surfing 1 times per week or other train...    1.20          Poor   \n",
       "\n",
       "                                         fitness_des  \n",
       "0  Surfing 4 times per week or other training 4 t...  \n",
       "1  Surfing 3 times per week or other training 3 t...  \n",
       "2  Surfing 2 times per week or other training 2 t...  \n",
       "3  Surfing 1 times per week or other training 1 t...  "
      ]
     },
     "execution_count": 7,
     "metadata": {},
     "output_type": "execute_result"
    }
   ],
   "source": [
    "Fitness_Factor_df[['fitness_level','fitness_des']] = Fitness_Factor_df.Fitness.str.split(\"-\",expand=True,)\n",
    "Fitness_Factor_df[\"fitness_level\"] = Fitness_Factor_df[\"fitness_level\"].astype(str).apply(lambda x: x.strip())\n",
    "Fitness_Factor_df[\"fitness_des\"] = Fitness_Factor_df[\"fitness_des\"].astype(str).apply(lambda x: x.strip())\n",
    "\n",
    "Fitness_Factor_df"
   ]
  },
  {
   "cell_type": "code",
   "execution_count": 8,
   "metadata": {},
   "outputs": [
    {
     "data": {
      "text/plain": [
       "Fitness           object\n",
       "Factor           float64\n",
       "fitness_level     object\n",
       "fitness_des       object\n",
       "dtype: object"
      ]
     },
     "execution_count": 8,
     "metadata": {},
     "output_type": "execute_result"
    }
   ],
   "source": [
    "Fitness_Factor_df.dtypes"
   ]
  },
  {
   "cell_type": "markdown",
   "metadata": {},
   "source": [
    "# Calculate Surf Board Volume:"
   ]
  },
  {
   "cell_type": "code",
   "execution_count": 9,
   "metadata": {},
   "outputs": [],
   "source": [
    "def calculate_surfboard_volume_func(weight, age, skill, fitness_level):\n",
    "    \n",
    "    return str(Wt_Vol_df.loc[ Wt_Vol_df[\"Weight (Kg)\"] == weight, skill].values[0]\\\n",
    "          *\\\n",
    "          Age_Factor_df.loc[Age_Factor_df[\"Age\"] == age, \"Factor\"].values[0]\\\n",
    "          *\\\n",
    "          Fitness_Factor_df.loc[Fitness_Factor_df[\"fitness_level\"] == fitness_level, \"Factor\"].values[0])\n",
    "    "
   ]
  },
  {
   "cell_type": "code",
   "execution_count": 10,
   "metadata": {},
   "outputs": [
    {
     "data": {
      "text/plain": [
       "'0.0'"
      ]
     },
     "execution_count": 10,
     "metadata": {},
     "output_type": "execute_result"
    }
   ],
   "source": [
    "calculate_surfboard_volume_func(weight = \"80\", \n",
    "                                age = \"0 - 30\", \n",
    "                                skill = \"Advance\", \n",
    "                                fitness_level = \"Average\" )"
   ]
  },
  {
   "cell_type": "markdown",
   "metadata": {},
   "source": [
    "# Import surfboard_dimensions DF:"
   ]
  },
  {
   "cell_type": "code",
   "execution_count": 11,
   "metadata": {},
   "outputs": [
    {
     "name": "stdout",
     "output_type": "stream",
     "text": [
      "surfboard_dimensions_df.shape =  (10, 6)\n"
     ]
    },
    {
     "data": {
      "text/html": [
       "<div>\n",
       "<style scoped>\n",
       "    .dataframe tbody tr th:only-of-type {\n",
       "        vertical-align: middle;\n",
       "    }\n",
       "\n",
       "    .dataframe tbody tr th {\n",
       "        vertical-align: top;\n",
       "    }\n",
       "\n",
       "    .dataframe thead th {\n",
       "        text-align: right;\n",
       "    }\n",
       "</style>\n",
       "<table border=\"1\" class=\"dataframe\">\n",
       "  <thead>\n",
       "    <tr style=\"text-align: right;\">\n",
       "      <th></th>\n",
       "      <th>Surfer Weight (lbs)</th>\n",
       "      <th>Surfer Weight (kg)</th>\n",
       "      <th>Surfboard Length</th>\n",
       "      <th>Surfboard Width</th>\n",
       "      <th>Surfboard Thickness</th>\n",
       "      <th>Surfing_Frequency</th>\n",
       "    </tr>\n",
       "  </thead>\n",
       "  <tbody>\n",
       "    <tr>\n",
       "      <th>0</th>\n",
       "      <td>100-140</td>\n",
       "      <td>45.4-63.5</td>\n",
       "      <td>6′2″-6′4″</td>\n",
       "      <td>18¾″-19¼″</td>\n",
       "      <td>2¼″-23⁄8″</td>\n",
       "      <td>less than 2 days</td>\n",
       "    </tr>\n",
       "    <tr>\n",
       "      <th>1</th>\n",
       "      <td>140-160</td>\n",
       "      <td>63.5-72.6</td>\n",
       "      <td>6′4″-6′8″</td>\n",
       "      <td>19″-20″</td>\n",
       "      <td>23⁄8″-2½″</td>\n",
       "      <td>less than 2 days</td>\n",
       "    </tr>\n",
       "    <tr>\n",
       "      <th>2</th>\n",
       "      <td>160-180</td>\n",
       "      <td>72.6-81.6</td>\n",
       "      <td>6′6″-6′10″</td>\n",
       "      <td>19½″-20½″</td>\n",
       "      <td>2½″-25⁄8″</td>\n",
       "      <td>less than 2 days</td>\n",
       "    </tr>\n",
       "    <tr>\n",
       "      <th>3</th>\n",
       "      <td>180-200</td>\n",
       "      <td>81.6-90.7</td>\n",
       "      <td>6′10″-7′4″</td>\n",
       "      <td>20″-21½″</td>\n",
       "      <td>2¾″-3″</td>\n",
       "      <td>less than 2 days</td>\n",
       "    </tr>\n",
       "    <tr>\n",
       "      <th>4</th>\n",
       "      <td>200 +</td>\n",
       "      <td>90.7 +</td>\n",
       "      <td>7′4″ +</td>\n",
       "      <td>21½″-22½″</td>\n",
       "      <td>3″-3¼″</td>\n",
       "      <td>less than 2 days</td>\n",
       "    </tr>\n",
       "    <tr>\n",
       "      <th>5</th>\n",
       "      <td>100-140</td>\n",
       "      <td>45.4-63.5</td>\n",
       "      <td>6′0″-6′4″</td>\n",
       "      <td>18½″-19″</td>\n",
       "      <td>2¼″-23⁄8″</td>\n",
       "      <td>more than 2 days</td>\n",
       "    </tr>\n",
       "    <tr>\n",
       "      <th>6</th>\n",
       "      <td>140-160</td>\n",
       "      <td>63.5-72.6</td>\n",
       "      <td>6′2″-6′6″</td>\n",
       "      <td>18¾″-19¼″</td>\n",
       "      <td>23⁄8″-2½″</td>\n",
       "      <td>more than 2 days</td>\n",
       "    </tr>\n",
       "    <tr>\n",
       "      <th>7</th>\n",
       "      <td>160-180</td>\n",
       "      <td>72.6-81.6</td>\n",
       "      <td>6′4″-6′8″</td>\n",
       "      <td>19″-19¾″</td>\n",
       "      <td>2½″-25⁄8″</td>\n",
       "      <td>more than 2 days</td>\n",
       "    </tr>\n",
       "    <tr>\n",
       "      <th>8</th>\n",
       "      <td>180-200</td>\n",
       "      <td>81.6-90.7</td>\n",
       "      <td>6′8″-7′2″</td>\n",
       "      <td>19½″-20½″</td>\n",
       "      <td>25⁄8″-27⁄8″</td>\n",
       "      <td>more than 2 days</td>\n",
       "    </tr>\n",
       "    <tr>\n",
       "      <th>9</th>\n",
       "      <td>200 +</td>\n",
       "      <td>90.7 +</td>\n",
       "      <td>7′2″ +</td>\n",
       "      <td>20″-21½″</td>\n",
       "      <td>3″-3¼″</td>\n",
       "      <td>more than 2 days</td>\n",
       "    </tr>\n",
       "  </tbody>\n",
       "</table>\n",
       "</div>"
      ],
      "text/plain": [
       "  Surfer Weight (lbs) Surfer Weight (kg) Surfboard Length Surfboard Width Surfboard Thickness Surfing_Frequency\n",
       "0             100-140          45.4-63.5        6′2″-6′4″       18¾″-19¼″           2¼″-23⁄8″  less than 2 days\n",
       "1             140-160          63.5-72.6        6′4″-6′8″         19″-20″           23⁄8″-2½″  less than 2 days\n",
       "2             160-180          72.6-81.6       6′6″-6′10″       19½″-20½″           2½″-25⁄8″  less than 2 days\n",
       "3             180-200          81.6-90.7       6′10″-7′4″        20″-21½″              2¾″-3″  less than 2 days\n",
       "4               200 +             90.7 +           7′4″ +       21½″-22½″              3″-3¼″  less than 2 days\n",
       "5             100-140          45.4-63.5        6′0″-6′4″        18½″-19″           2¼″-23⁄8″  more than 2 days\n",
       "6             140-160          63.5-72.6        6′2″-6′6″       18¾″-19¼″           23⁄8″-2½″  more than 2 days\n",
       "7             160-180          72.6-81.6        6′4″-6′8″        19″-19¾″           2½″-25⁄8″  more than 2 days\n",
       "8             180-200          81.6-90.7        6′8″-7′2″       19½″-20½″         25⁄8″-27⁄8″  more than 2 days\n",
       "9               200 +             90.7 +           7′2″ +        20″-21½″              3″-3¼″  more than 2 days"
      ]
     },
     "execution_count": 11,
     "metadata": {},
     "output_type": "execute_result"
    }
   ],
   "source": [
    "dataset_path = r\"\"\n",
    "# surf_board_df = pd.read_csv(dataset_path + \"All_Las_Bambas_Assay_Method_SG_Data.xlsx\")\n",
    "surfboard_dimensions_df = pd.read_excel(dataset_path + \"Surfboard_Reco_Datasets.xlsx\", \n",
    "                              sheet_name = \"surfboard_dimensions\")\n",
    "print(\"surfboard_dimensions_df.shape = \", surfboard_dimensions_df.shape)\n",
    "\n",
    "surfboard_dimensions_df"
   ]
  },
  {
   "cell_type": "markdown",
   "metadata": {},
   "source": [
    "# Calculate Surfboard Dimensions;"
   ]
  },
  {
   "cell_type": "code",
   "execution_count": 16,
   "metadata": {},
   "outputs": [],
   "source": [
    "def calculate_surfboard_dimensions_func(weight_str, Surfing_Frequency):\n",
    "    start_weight_lst = [\"35 & Under\", \"40\", \"45\", \"50\", \"55\", \"60\", \"65\"]\n",
    "    if  weight_str in start_weight_lst:\n",
    "        weight = 60\n",
    "    else:\n",
    "        weight = float(weight_str)\n",
    "\n",
    "        \n",
    "        \n",
    "    surfboard_dict = {}\n",
    "    \n",
    "    if float(weight) > 90.7:\n",
    "\n",
    "        surfboard_dict[\"length\"] = surfboard_dimensions_df.loc[\n",
    "                                        surfboard_dimensions_df[\"Surfing_Frequency\"] == Surfing_Frequency,\n",
    "                                        \"Surfboard Length\"].values[0]\n",
    "        \n",
    "        surfboard_dict[\"width\"] = surfboard_dimensions_df.loc[\n",
    "                                        surfboard_dimensions_df[\"Surfing_Frequency\"] == Surfing_Frequency,\n",
    "                                        \"Surfboard Width\"].values[0]\n",
    "\n",
    "        surfboard_dict[\"thickness\"] = surfboard_dimensions_df.loc[\n",
    "                                        surfboard_dimensions_df[\"Surfing_Frequency\"] == Surfing_Frequency,\n",
    "                                        \"Surfboard Thickness\"].values[0]        \n",
    "        \n",
    "        return surfboard_dict\n",
    "\n",
    "    else:        \n",
    "\n",
    "        for index, row in surfboard_dimensions_df.loc[surfboard_dimensions_df[\"Surfer Weight (kg)\"] != \"90.7 +\"].iterrows():\n",
    "\n",
    "            if ( (weight >= float(row[\"Surfer Weight (kg)\"].split(\"-\")[0])) &\n",
    "               (weight < float(row[\"Surfer Weight (kg)\"].split(\"-\")[1])) ):\n",
    "\n",
    "                surfboard_dict[\"length\"] = surfboard_dimensions_df.loc[\n",
    "                                                (\n",
    "                                                (surfboard_dimensions_df[\"Surfer Weight (kg)\"] == row[\"Surfer Weight (kg)\"]) \n",
    "                                                &\n",
    "                                                (surfboard_dimensions_df[\"Surfing_Frequency\"] == Surfing_Frequency)\n",
    "                                                ),\n",
    "                                                \"Surfboard Length\"].values[0]     \n",
    "\n",
    "                surfboard_dict[\"width\"] = surfboard_dimensions_df.loc[\n",
    "                                                (\n",
    "                                                (surfboard_dimensions_df[\"Surfer Weight (kg)\"] == row[\"Surfer Weight (kg)\"]) \n",
    "                                                &\n",
    "                                                (surfboard_dimensions_df[\"Surfing_Frequency\"] == Surfing_Frequency)\n",
    "                                                ),\n",
    "                                                \"Surfboard Width\"].values[0]  \n",
    "        \n",
    "                surfboard_dict[\"thickness\"] = surfboard_dimensions_df.loc[\n",
    "                                                (\n",
    "                                                (surfboard_dimensions_df[\"Surfer Weight (kg)\"] == row[\"Surfer Weight (kg)\"]) \n",
    "                                                &\n",
    "                                                (surfboard_dimensions_df[\"Surfing_Frequency\"] == Surfing_Frequency)\n",
    "                                                ),\n",
    "                                                \"Surfboard Thickness\"].values[0]  \n",
    "            \n",
    "                return surfboard_dict\n",
    "#     pass\n"
   ]
  },
  {
   "cell_type": "code",
   "execution_count": 17,
   "metadata": {},
   "outputs": [
    {
     "data": {
      "text/plain": [
       "{'length': '6′2″-6′6″', 'width': '18¾″-19¼″', 'thickness': '23⁄8″-2½″'}"
      ]
     },
     "execution_count": 17,
     "metadata": {},
     "output_type": "execute_result"
    }
   ],
   "source": [
    "calculate_surfboard_dimensions_func(weight_str = \"70\", \n",
    "                                    Surfing_Frequency = \"more than 2 days\")"
   ]
  },
  {
   "cell_type": "markdown",
   "metadata": {},
   "source": [
    "# INPUT FORMAT and POSSIBLE INPUT FOR EACH VARIABLE:"
   ]
  },
  {
   "cell_type": "markdown",
   "metadata": {},
   "source": [
    "## WEIGHT:"
   ]
  },
  {
   "cell_type": "code",
   "execution_count": 19,
   "metadata": {},
   "outputs": [
    {
     "data": {
      "text/plain": [
       "['35 & Under',\n",
       " '40',\n",
       " '45',\n",
       " '50',\n",
       " '55',\n",
       " '60',\n",
       " '65',\n",
       " '70',\n",
       " '75',\n",
       " '80',\n",
       " '85',\n",
       " '90',\n",
       " '95',\n",
       " '100',\n",
       " '105',\n",
       " '110']"
      ]
     },
     "execution_count": 19,
     "metadata": {},
     "output_type": "execute_result"
    }
   ],
   "source": [
    "Wt_Vol_df[\"Weight (Kg)\"].values.tolist()"
   ]
  },
  {
   "cell_type": "markdown",
   "metadata": {},
   "source": [
    "## AGE:"
   ]
  },
  {
   "cell_type": "code",
   "execution_count": 21,
   "metadata": {},
   "outputs": [
    {
     "data": {
      "text/plain": [
       "['0 - 30', '31 - 50', '51 - 60', '61+']"
      ]
     },
     "execution_count": 21,
     "metadata": {},
     "output_type": "execute_result"
    }
   ],
   "source": [
    "Age_Factor_df[\"Age\"].values.tolist()"
   ]
  },
  {
   "cell_type": "markdown",
   "metadata": {},
   "source": [
    "## SKILL:"
   ]
  },
  {
   "cell_type": "code",
   "execution_count": 22,
   "metadata": {},
   "outputs": [
    {
     "data": {
      "text/plain": [
       "['Advance +', 'Advance', 'Inter. / Adv', 'Intermediate', 'Beginner']"
      ]
     },
     "execution_count": 22,
     "metadata": {},
     "output_type": "execute_result"
    }
   ],
   "source": [
    "Wt_Vol_df.columns.tolist()[1:]"
   ]
  },
  {
   "cell_type": "markdown",
   "metadata": {},
   "source": [
    "## FITNESS LEVEL:"
   ]
  },
  {
   "cell_type": "code",
   "execution_count": 23,
   "metadata": {},
   "outputs": [
    {
     "data": {
      "text/plain": [
       "['Excellent', 'Good', 'Average', 'Poor']"
      ]
     },
     "execution_count": 23,
     "metadata": {},
     "output_type": "execute_result"
    }
   ],
   "source": [
    "Fitness_Factor_df[\"fitness_level\"].values.tolist()"
   ]
  },
  {
   "cell_type": "markdown",
   "metadata": {},
   "source": [
    "## SURFING FREQUENCY:"
   ]
  },
  {
   "cell_type": "code",
   "execution_count": 27,
   "metadata": {},
   "outputs": [
    {
     "data": {
      "text/plain": [
       "['less than 2 days', 'more than 2 days']"
      ]
     },
     "execution_count": 27,
     "metadata": {},
     "output_type": "execute_result"
    }
   ],
   "source": [
    "surfboard_dimensions_df[\"Surfing_Frequency\"].unique().tolist()"
   ]
  },
  {
   "cell_type": "code",
   "execution_count": null,
   "metadata": {},
   "outputs": [],
   "source": []
  }
 ],
 "metadata": {
  "kernelspec": {
   "display_name": "Python 3",
   "language": "python",
   "name": "python3"
  },
  "language_info": {
   "codemirror_mode": {
    "name": "ipython",
    "version": 3
   },
   "file_extension": ".py",
   "mimetype": "text/x-python",
   "name": "python",
   "nbconvert_exporter": "python",
   "pygments_lexer": "ipython3",
   "version": "3.6.7rc1"
  }
 },
 "nbformat": 4,
 "nbformat_minor": 2
}
