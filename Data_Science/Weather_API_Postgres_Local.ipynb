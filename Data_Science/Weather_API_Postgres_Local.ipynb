{
 "cells": [
  {
   "cell_type": "markdown",
   "metadata": {},
   "source": [
    "### Author: Akshay Ijantkar\n",
    "### Team: Aqua Wizards\n",
    "### Project: Surfers Bible"
   ]
  },
  {
   "cell_type": "markdown",
   "metadata": {},
   "source": [
    "# Import Libraries:"
   ]
  },
  {
   "cell_type": "code",
   "execution_count": 1,
   "metadata": {},
   "outputs": [
    {
     "name": "stderr",
     "output_type": "stream",
     "text": [
      "C:\\Users\\aksha\\Anaconda3\\lib\\site-packages\\statsmodels\\tools\\_testing.py:19: FutureWarning: pandas.util.testing is deprecated. Use the functions in the public API at pandas.testing instead.\n",
      "  import pandas.util.testing as tm\n",
      "Using TensorFlow backend.\n",
      "C:\\Users\\aksha\\Anaconda3\\lib\\site-packages\\tensorflow\\python\\framework\\dtypes.py:526: FutureWarning: Passing (type, 1) or '1type' as a synonym of type is deprecated; in a future version of numpy, it will be understood as (type, (1,)) / '(1,)type'.\n",
      "  _np_qint8 = np.dtype([(\"qint8\", np.int8, 1)])\n",
      "C:\\Users\\aksha\\Anaconda3\\lib\\site-packages\\tensorflow\\python\\framework\\dtypes.py:527: FutureWarning: Passing (type, 1) or '1type' as a synonym of type is deprecated; in a future version of numpy, it will be understood as (type, (1,)) / '(1,)type'.\n",
      "  _np_quint8 = np.dtype([(\"quint8\", np.uint8, 1)])\n",
      "C:\\Users\\aksha\\Anaconda3\\lib\\site-packages\\tensorflow\\python\\framework\\dtypes.py:528: FutureWarning: Passing (type, 1) or '1type' as a synonym of type is deprecated; in a future version of numpy, it will be understood as (type, (1,)) / '(1,)type'.\n",
      "  _np_qint16 = np.dtype([(\"qint16\", np.int16, 1)])\n",
      "C:\\Users\\aksha\\Anaconda3\\lib\\site-packages\\tensorflow\\python\\framework\\dtypes.py:529: FutureWarning: Passing (type, 1) or '1type' as a synonym of type is deprecated; in a future version of numpy, it will be understood as (type, (1,)) / '(1,)type'.\n",
      "  _np_quint16 = np.dtype([(\"quint16\", np.uint16, 1)])\n",
      "C:\\Users\\aksha\\Anaconda3\\lib\\site-packages\\tensorflow\\python\\framework\\dtypes.py:530: FutureWarning: Passing (type, 1) or '1type' as a synonym of type is deprecated; in a future version of numpy, it will be understood as (type, (1,)) / '(1,)type'.\n",
      "  _np_qint32 = np.dtype([(\"qint32\", np.int32, 1)])\n",
      "C:\\Users\\aksha\\Anaconda3\\lib\\site-packages\\tensorflow\\python\\framework\\dtypes.py:535: FutureWarning: Passing (type, 1) or '1type' as a synonym of type is deprecated; in a future version of numpy, it will be understood as (type, (1,)) / '(1,)type'.\n",
      "  np_resource = np.dtype([(\"resource\", np.ubyte, 1)])\n"
     ]
    }
   ],
   "source": [
    "import pandas as pd\n",
    "import numpy as np\n",
    "import random\n",
    "import matplotlib as plt\n",
    "from matplotlib import pyplot\n",
    "import seaborn as sns; sns.set()\n",
    "from scipy.stats import norm \n",
    "import matplotlib.pyplot as plt\n",
    "# For Linear regression\n",
    "from sklearn.linear_model import LinearRegression\n",
    "# For split given dataset into train and test set.\n",
    "from sklearn.model_selection import train_test_split\n",
    "# To verify models using this metrics \n",
    "from sklearn.metrics import mean_squared_error, r2_score\n",
    "\n",
    "import statsmodels.formula.api as smf\n",
    "from sklearn.linear_model import LinearRegression\n",
    "from sklearn import metrics\n",
    "# v\n",
    "from matplotlib import rcParams\n",
    "rcParams['figure.figsize'] = 50,50\n",
    "import pandas_profiling\n",
    "pd.set_option('display.max_rows', 1500)\n",
    "pd.set_option('display.max_columns', 500)\n",
    "pd.set_option('display.width', 1000)\n",
    "from pandas import ExcelWriter\n",
    "from pandas import ExcelFile\n",
    "\n",
    "from pygeocoder import Geocoder\n",
    "\n",
    "import sys\n",
    "from weather_au import api\n",
    "from weather_au import summary\n",
    "from weather import place, observations, uv_index\n",
    "import time\n",
    "\n",
    "import json\n",
    "import requests\n",
    "from datetime import datetime, timedelta\n",
    "from catboost import CatBoostClassifier\n",
    "from sklearn.model_selection import train_test_split\n",
    "\n",
    "from sklearn.metrics import r2_score\n",
    "from keras.models import Sequential\n",
    "from keras.layers import Dense\n",
    "from keras.wrappers.scikit_learn import KerasRegressor\n",
    "from sklearn.model_selection import cross_val_score\n",
    "from sklearn.model_selection import KFold\n",
    "from sklearn.model_selection import cross_validate\n",
    "\n",
    "import catboost as ctb\n",
    "from catboost import CatBoostRegressor, FeaturesData, Pool\n",
    "from scipy.stats import uniform as sp_randFloat\n",
    "from scipy.stats import randint as sp_randInt\n",
    "from scipy.stats import uniform\n",
    "from sklearn.model_selection import RandomizedSearchCV\n",
    "from sklearn.metrics.pairwise import cosine_similarity\n",
    "from  sklearn.metrics.pairwise import euclidean_distances\n",
    "from sklearn.metrics.pairwise import manhattan_distances\n",
    "from sklearn.metrics.pairwise import pairwise_distances\n",
    "import re\n",
    "import pprint\n",
    "\n",
    "import sqlite3\n",
    "from sqlite3 import Error\n",
    "%matplotlib inline"
   ]
  },
  {
   "cell_type": "markdown",
   "metadata": {},
   "source": [
    "# Create Weather DF:"
   ]
  },
  {
   "cell_type": "code",
   "execution_count": 19,
   "metadata": {},
   "outputs": [
    {
     "data": {
      "text/html": [
       "<div>\n",
       "<style scoped>\n",
       "    .dataframe tbody tr th:only-of-type {\n",
       "        vertical-align: middle;\n",
       "    }\n",
       "\n",
       "    .dataframe tbody tr th {\n",
       "        vertical-align: top;\n",
       "    }\n",
       "\n",
       "    .dataframe thead th {\n",
       "        text-align: right;\n",
       "    }\n",
       "</style>\n",
       "<table border=\"1\" class=\"dataframe\">\n",
       "  <thead>\n",
       "    <tr style=\"text-align: right;\">\n",
       "      <th></th>\n",
       "      <th>weather_date</th>\n",
       "      <th>beach_address</th>\n",
       "      <th>beach_name</th>\n",
       "      <th>beach_state</th>\n",
       "      <th>beach_country</th>\n",
       "      <th>beach_latitude</th>\n",
       "      <th>beach_longitude</th>\n",
       "      <th>time</th>\n",
       "      <th>summary</th>\n",
       "      <th>icon</th>\n",
       "      <th>precipIntensity</th>\n",
       "      <th>precipProbability</th>\n",
       "      <th>temperature</th>\n",
       "      <th>apparentTemperature</th>\n",
       "      <th>dewPoint</th>\n",
       "      <th>humidity</th>\n",
       "      <th>pressure</th>\n",
       "      <th>windSpeed</th>\n",
       "      <th>windGust</th>\n",
       "      <th>windBearing</th>\n",
       "      <th>cloudCover</th>\n",
       "      <th>uvIndex</th>\n",
       "      <th>visibility</th>\n",
       "      <th>ozone</th>\n",
       "    </tr>\n",
       "  </thead>\n",
       "  <tbody>\n",
       "  </tbody>\n",
       "</table>\n",
       "</div>"
      ],
      "text/plain": [
       "Empty DataFrame\n",
       "Columns: [weather_date, beach_address, beach_name, beach_state, beach_country, beach_latitude, beach_longitude, time, summary, icon, precipIntensity, precipProbability, temperature, apparentTemperature, dewPoint, humidity, pressure, windSpeed, windGust, windBearing, cloudCover, uvIndex, visibility, ozone]\n",
       "Index: []"
      ]
     },
     "execution_count": 19,
     "metadata": {},
     "output_type": "execute_result"
    }
   ],
   "source": [
    "weather_beach_req_col_lst = [\n",
    " 'weather_date',\n",
    " 'beach_address',\n",
    " 'beach_name',\n",
    " 'beach_state',\n",
    " 'beach_country',\n",
    " 'beach_latitude',\n",
    " 'beach_longitude',\n",
    " 'time',\n",
    " 'summary',\n",
    " 'icon',\n",
    " 'precipIntensity',\n",
    " 'precipProbability',\n",
    " 'temperature',\n",
    " 'apparentTemperature',\n",
    " 'dewPoint',\n",
    " 'humidity',\n",
    " 'pressure',\n",
    " 'windSpeed',\n",
    " 'windGust',\n",
    " 'windBearing',\n",
    " 'cloudCover',\n",
    " 'uvIndex',\n",
    " 'visibility',\n",
    " 'ozone',\n",
    "                        ]\n",
    "\n",
    "weather_df = pd.DataFrame(columns = weather_beach_req_col_lst\n",
    "                         )\n",
    "\n",
    "# for col in list(weat_dict['hourly']['data'][0].keys()):\n",
    "#     weather_df[col] = \"\"\n",
    "    \n",
    "# weather_beach_req_col_lst.remove(\"date\")\n",
    "weather_df  "
   ]
  },
  {
   "cell_type": "code",
   "execution_count": 20,
   "metadata": {},
   "outputs": [
    {
     "data": {
      "text/plain": [
       "1588950000"
      ]
     },
     "execution_count": 20,
     "metadata": {},
     "output_type": "execute_result"
    }
   ],
   "source": [
    "timestamp_epochs = int(time.mktime(time.strptime(\"2020-05-09\", '%Y-%m-%d'))) + 3600  \n",
    "timestamp_epochs"
   ]
  },
  {
   "cell_type": "code",
   "execution_count": 21,
   "metadata": {},
   "outputs": [],
   "source": [
    "def get_weather_dict_given_date_loc_func(date_str, lat, lon):\n",
    "    weather_beach_req_col_lst = [\n",
    "     'weather_date',\n",
    "     'beach_address',\n",
    "     'beach_name',\n",
    "     'beach_state',\n",
    "     'beach_country',\n",
    "     'beach_latitude',\n",
    "     'beach_longitude',\n",
    "     'time',\n",
    "     'summary',\n",
    "     'icon',\n",
    "     'precipIntensity',\n",
    "     'precipProbability',\n",
    "     'temperature',\n",
    "     'apparentTemperature',\n",
    "     'dewPoint',\n",
    "     'humidity',\n",
    "     'pressure',\n",
    "     'windSpeed',\n",
    "     'windGust',\n",
    "     'windBearing',\n",
    "     'cloudCover',\n",
    "     'uvIndex',\n",
    "     'visibility',\n",
    "     'ozone',\n",
    "                            ]\n",
    "    weather_df = pd.DataFrame(columns = weather_beach_req_col_lst\n",
    "                             )    \n",
    "\n",
    "    timestamp_epochs = int(time.mktime(time.strptime(date_str, '%Y-%m-%d'))) + 3600  \n",
    "    \n",
    "    API_KEY = \"bdbb908566b674b2e5971ac7f61e1bfc\"\n",
    "    \n",
    "    get_request = \"\"\n",
    "    get_request += \"https://api.darksky.net/forecast/\"\n",
    "    get_request += API_KEY\n",
    "    get_request += \"/\"\n",
    "    get_request += str(lat)\n",
    "    get_request += \",\"\n",
    "    get_request += str(lon)\n",
    "    get_request += \",\"\n",
    "    get_request += str(timestamp_epochs)\n",
    "\n",
    "    response_dict = json.loads(requests.get(get_request).text)\n",
    "\n",
    "    print(\"get_request = \", get_request)\n",
    "    print(\"****************************************************************************************************\")\n",
    "    #     print(\"response_dict = \",response_dict)\n",
    "\n",
    "    if len(list(response_dict.keys())) > 2:\n",
    "        print(\"Weather API - Response Successfull :)\")\n",
    "        weather_row_dict = {}\n",
    "        for per_hr_attri_dict in response_dict['hourly']['data']:\n",
    "            weather_row_dict[\"weather_date\"] = date_str\n",
    "\n",
    "            for col in weather_beach_req_col_lst:\n",
    "                weather_row_dict[col] = row[col]\n",
    "\n",
    "            for hr_attri in per_hr_attri_dict.keys():\n",
    "                weather_row_dict[hr_attri] = per_hr_attri_dict[hr_attri]  \n",
    "\n",
    "            weather_row_dict[\"nearest-station\"] = weat_dict['flags']['nearest-station']\n",
    "            weather_row_dict[\"sources\"] = weat_dict['flags']['sources']\n",
    "            weather_row_dict[\"offset\"] = weat_dict['offset']\n",
    "\n",
    "            weather_df = weather_df.append(weather_row_dict, ignore_index=True)\n",
    "            \n",
    "        return weather_df\n",
    "    else:\n",
    "        print(\"Weather API - Response Unsuccessfull :(\")\n",
    "        return weather_df"
   ]
  },
  {
   "cell_type": "code",
   "execution_count": 22,
   "metadata": {},
   "outputs": [
    {
     "name": "stdout",
     "output_type": "stream",
     "text": [
      "get_request =  https://api.darksky.net/forecast/bdbb908566b674b2e5971ac7f61e1bfc/-33.869,151.209,1589036400\n",
      "****************************************************************************************************\n",
      "Weather API - Response Successfull :)\n"
     ]
    },
    {
     "ename": "NameError",
     "evalue": "name 'row' is not defined",
     "output_type": "error",
     "traceback": [
      "\u001b[1;31m---------------------------------------------------------------------------\u001b[0m",
      "\u001b[1;31mNameError\u001b[0m                                 Traceback (most recent call last)",
      "\u001b[1;32m<ipython-input-22-a215f4ffc7ca>\u001b[0m in \u001b[0;36m<module>\u001b[1;34m\u001b[0m\n\u001b[0;32m      1\u001b[0m get_weather_dict_given_date_loc_func(date_str = \"2020-05-10\", \n\u001b[0;32m      2\u001b[0m                                      \u001b[0mlat\u001b[0m \u001b[1;33m=\u001b[0m \u001b[1;33m-\u001b[0m\u001b[1;36m33.869\u001b[0m\u001b[1;33m,\u001b[0m\u001b[1;33m\u001b[0m\u001b[1;33m\u001b[0m\u001b[0m\n\u001b[1;32m----> 3\u001b[1;33m                                      lon = 151.209)\n\u001b[0m",
      "\u001b[1;32m<ipython-input-21-f02027592354>\u001b[0m in \u001b[0;36mget_weather_dict_given_date_loc_func\u001b[1;34m(date_str, lat, lon)\u001b[0m\n\u001b[0;32m     56\u001b[0m \u001b[1;33m\u001b[0m\u001b[0m\n\u001b[0;32m     57\u001b[0m             \u001b[1;32mfor\u001b[0m \u001b[0mcol\u001b[0m \u001b[1;32min\u001b[0m \u001b[0mweather_beach_req_col_lst\u001b[0m\u001b[1;33m:\u001b[0m\u001b[1;33m\u001b[0m\u001b[1;33m\u001b[0m\u001b[0m\n\u001b[1;32m---> 58\u001b[1;33m                 \u001b[0mweather_row_dict\u001b[0m\u001b[1;33m[\u001b[0m\u001b[0mcol\u001b[0m\u001b[1;33m]\u001b[0m \u001b[1;33m=\u001b[0m \u001b[0mrow\u001b[0m\u001b[1;33m[\u001b[0m\u001b[0mcol\u001b[0m\u001b[1;33m]\u001b[0m\u001b[1;33m\u001b[0m\u001b[1;33m\u001b[0m\u001b[0m\n\u001b[0m\u001b[0;32m     59\u001b[0m \u001b[1;33m\u001b[0m\u001b[0m\n\u001b[0;32m     60\u001b[0m             \u001b[1;32mfor\u001b[0m \u001b[0mhr_attri\u001b[0m \u001b[1;32min\u001b[0m \u001b[0mper_hr_attri_dict\u001b[0m\u001b[1;33m.\u001b[0m\u001b[0mkeys\u001b[0m\u001b[1;33m(\u001b[0m\u001b[1;33m)\u001b[0m\u001b[1;33m:\u001b[0m\u001b[1;33m\u001b[0m\u001b[1;33m\u001b[0m\u001b[0m\n",
      "\u001b[1;31mNameError\u001b[0m: name 'row' is not defined"
     ]
    }
   ],
   "source": [
    "get_weather_dict_given_date_loc_func(date_str = \"2020-05-10\", \n",
    "                                     lat = -33.869, \n",
    "                                     lon = 151.209)"
   ]
  },
  {
   "cell_type": "code",
   "execution_count": null,
   "metadata": {},
   "outputs": [],
   "source": []
  }
 ],
 "metadata": {
  "kernelspec": {
   "display_name": "Python 3",
   "language": "python",
   "name": "python3"
  },
  "language_info": {
   "codemirror_mode": {
    "name": "ipython",
    "version": 3
   },
   "file_extension": ".py",
   "mimetype": "text/x-python",
   "name": "python",
   "nbconvert_exporter": "python",
   "pygments_lexer": "ipython3",
   "version": "3.7.4"
  }
 },
 "nbformat": 4,
 "nbformat_minor": 2
}
